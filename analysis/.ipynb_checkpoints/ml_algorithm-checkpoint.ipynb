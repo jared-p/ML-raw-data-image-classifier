{
 "cells": [
  {
   "cell_type": "markdown",
   "id": "a30925b6",
   "metadata": {},
   "source": [
    "# ENGR481 Project Stage 1\n",
    "\n",
    "By: Jared Paull, Liam Ross\n",
    "\n",
    "The first step that must be taken is to import the necessary libraries for the project"
   ]
  },
  {
   "cell_type": "code",
   "execution_count": 3,
   "id": "ab32db1c",
   "metadata": {},
   "outputs": [],
   "source": [
    "# Trim un-needed libraries later\n",
    "\n",
    "import numpy as np\n",
    "import matplotlib.pyplot as plt\n",
    "import pandas as pd\n",
    "from mpl_toolkits import mplot3d\n",
    "from autograd import grad\n",
    "from autograd import hessian\n",
    "from sklearn.linear_model import LinearRegression\n",
    "from sklearn import datasets\n",
    "from sklearn import linear_model\n",
    "\n",
    "import PIL"
   ]
  },
  {
   "cell_type": "code",
   "execution_count": 55,
   "id": "88b87e29",
   "metadata": {},
   "outputs": [
    {
     "name": "stdout",
     "output_type": "stream",
     "text": [
      "PNG\n",
      "(997, 1001)\n",
      "RGB\n",
      "<class 'numpy.ndarray'>\n",
      "(1001, 997, 3)\n",
      "[[[124 117 107]\n",
      "  [124 117 107]\n",
      "  [122 115 105]\n",
      "  ...\n",
      "  [169 162 152]\n",
      "  [169 162 152]\n",
      "  [170 163 153]]\n",
      "\n",
      " [[122 115 105]\n",
      "  [122 115 105]\n",
      "  [121 114 104]\n",
      "  ...\n",
      "  [169 162 152]\n",
      "  [169 162 152]\n",
      "  [170 163 153]]\n",
      "\n",
      " [[122 115 105]\n",
      "  [121 114 104]\n",
      "  [121 114 104]\n",
      "  ...\n",
      "  [169 162 152]\n",
      "  [169 162 152]\n",
      "  [170 163 153]]\n",
      "\n",
      " ...\n",
      "\n",
      " [[146 142 133]\n",
      "  [145 141 132]\n",
      "  [147 143 134]\n",
      "  ...\n",
      "  [176 169 159]\n",
      "  [175 168 158]\n",
      "  [175 168 158]]\n",
      "\n",
      " [[149 145 136]\n",
      "  [146 142 133]\n",
      "  [146 142 133]\n",
      "  ...\n",
      "  [174 167 157]\n",
      "  [173 166 156]\n",
      "  [173 166 156]]\n",
      "\n",
      " [[148 144 135]\n",
      "  [145 141 132]\n",
      "  [146 142 133]\n",
      "  ...\n",
      "  [174 167 157]\n",
      "  [173 166 156]\n",
      "  [173 166 156]]]\n",
      "[124 124 122 ... 174 173 173] [117 117 115 ... 167 166 166] [107 107 105 ... 157 156 156]\n"
     ]
    }
   ],
   "source": [
    "# Great resource: https://www.pluralsight.com/guides/importing-image-data-into-numpy-arrays\n",
    "\n",
    "# import image using Pillow library\n",
    "image = PIL.Image.open(\"../data/training/cir_1.png\")\n",
    "\n",
    "print(image.format)\n",
    "print(image.size)\n",
    "print(image.mode)\n",
    "\n",
    "# stores data in 3D array, first dimension is row, second dim is col, third dim is [R G B] value for the pixel.\n",
    "data = np.asarray(image)\n",
    "\n",
    "print(type(data))\n",
    "\n",
    "# summarize shape\n",
    "print(data.shape)\n",
    "print(data)\n",
    "\n",
    "# Have 1D vector for each R,G,B; index n represents colour value for nth pixel.\n",
    "R = data[:,:,0].flatten()\n",
    "G = data[:,:,1].flatten()\n",
    "B = data[:,:,2].flatten()\n",
    "\n",
    "print(R,G,B)\n"
   ]
  },
  {
   "cell_type": "code",
   "execution_count": null,
   "id": "ec4555bc",
   "metadata": {},
   "outputs": [],
   "source": []
  }
 ],
 "metadata": {
  "kernelspec": {
   "display_name": "Python 3 (ipykernel)",
   "language": "python",
   "name": "python3"
  },
  "language_info": {
   "codemirror_mode": {
    "name": "ipython",
    "version": 3
   },
   "file_extension": ".py",
   "mimetype": "text/x-python",
   "name": "python",
   "nbconvert_exporter": "python",
   "pygments_lexer": "ipython3",
   "version": "3.8.5"
  }
 },
 "nbformat": 4,
 "nbformat_minor": 5
}
