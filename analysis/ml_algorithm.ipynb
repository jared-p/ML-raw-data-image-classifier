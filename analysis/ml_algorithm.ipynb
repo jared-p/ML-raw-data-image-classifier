{
 "cells": [
  {
   "cell_type": "markdown",
   "id": "bf7883c8",
   "metadata": {},
   "source": [
    "# ENGR481 Project Stage 1\n",
    "\n",
    "By: Jared Paull, Liam Ross\n",
    "\n",
    "The first step that must be taken is to import the necessary libraries for the project"
   ]
  },
  {
   "cell_type": "code",
   "execution_count": 90,
   "id": "e6e4a598",
   "metadata": {},
   "outputs": [],
   "source": [
    "# Trim un-needed libraries later\n",
    "\n",
    "import numpy as np\n",
    "import matplotlib.pyplot as plt\n",
    "import pandas as pd\n",
    "from mpl_toolkits import mplot3d\n",
    "from autograd import grad\n",
    "from autograd import hessian\n",
    "from sklearn.linear_model import LinearRegression\n",
    "from sklearn import datasets\n",
    "from sklearn import linear_model\n",
    "import os\n",
    "from sklearn.metrics import confusion_matrix\n",
    "\n",
    "import PIL"
   ]
  },
  {
   "cell_type": "code",
   "execution_count": 59,
   "id": "52a558c8",
   "metadata": {},
   "outputs": [
    {
     "name": "stdout",
     "output_type": "stream",
     "text": [
      "<class 'numpy.ndarray'>\n",
      "[131 131 132 ... 159 159 160]\n"
     ]
    }
   ],
   "source": [
    "# Great resource: https://www.pluralsight.com/guides/importing-image-data-into-numpy-arrays\n",
    "\n",
    "# import image using Pillow library\n",
    "image = PIL.Image.open(\"../data/training/cir_1.png\").convert(\"L\")\n",
    "\n",
    "image = PIL.Image.fromarray(np.array(image)[int(np.floor(image.height / 4)) : int(np.ceil(3 * image.height / 4)), int(np.floor(image.width / 4)) : int(np.ceil( 3 * image.width / 4))])\n",
    "\n",
    "image = image.resize((64,64))\n",
    "\n",
    "#image.show()\n",
    "\n",
    "\n",
    "# print(image.format)\n",
    "# print(image.size)\n",
    "# print(image.mode)\n",
    "\n",
    "\n",
    "# stores data in 3D array, first dimension is row, second dim is col, third dim is [R G B] value for the pixel.\n",
    "data = np.asarray(image)\n",
    "\n",
    "print(type(data))\n",
    "\n",
    "# summarize shape\n",
    "#print(data.shape)\n",
    "#print(data)\n",
    "vec = np.hstack(data)\n",
    "print(vec)\n"
   ]
  },
  {
   "cell_type": "code",
   "execution_count": 82,
   "id": "35b3df35",
   "metadata": {},
   "outputs": [
    {
     "name": "stdout",
     "output_type": "stream",
     "text": [
      "[[131 131 132 ... 159 159 160]\n",
      " [208 207 208 ... 199 199 200]\n",
      " [206 206 206 ... 196 195 196]\n",
      " ...\n",
      " [143 143 142 ... 197 196 196]\n",
      " [180 181 181 ... 206 206 205]\n",
      " [196 196 195 ... 220 220 222]] \n",
      " [0 0 0 0 0 0 0 0 0 0 0 0 0 0 0 0 0 0 1 1 1 1 1 1 1 1 1 1 1 1 1 1 1 1 1 1 2\n",
      " 2 2 2 2 2 2 2 2 2 2 2 2 2 2 2 2 2]\n"
     ]
    }
   ],
   "source": [
    "x = []\n",
    "y = []\n",
    "for pic in os.listdir(\"../data/training/\"):\n",
    "    image = PIL.Image.open(f\"../data/training/{pic}\").convert(\"L\")\n",
    "    image = PIL.Image.fromarray(np.array(image)[int(np.floor(image.height / 4)) : int(np.ceil(3 * image.height / 4)), int(np.floor(image.width / 4)) : int(np.ceil( 3 * image.width / 4))])\n",
    "    image = image.resize((64,64))\n",
    "    data = np.asarray(image)\n",
    "    vec = np.hstack(data)\n",
    "    x.append(vec)\n",
    "    \n",
    "    if( str.lower(pic[0]) == \"c\"):\n",
    "        y.append(0)\n",
    "    elif (str.lower(pic[0]) == \"r\"):\n",
    "        y.append(1)\n",
    "    else:\n",
    "        y.append(2)\n",
    "    \n",
    "x = np.array(x)\n",
    "y = np.array(y)\n",
    "\n",
    "print(x,\"\\n\", y)\n"
   ]
  },
  {
   "cell_type": "code",
   "execution_count": 79,
   "id": "30a4b39c",
   "metadata": {},
   "outputs": [
    {
     "data": {
      "text/plain": [
       "LogisticRegression(solver='liblinear')"
      ]
     },
     "execution_count": 79,
     "metadata": {},
     "output_type": "execute_result"
    }
   ],
   "source": [
    "log_regress = linear_model.LogisticRegression(solver = \"liblinear\")\n",
    "log_regress.fit(x,y)\n",
    "\n"
   ]
  },
  {
   "cell_type": "markdown",
   "id": "9a41fb00",
   "metadata": {},
   "source": [
    "## Testing the algorithm"
   ]
  },
  {
   "cell_type": "code",
   "execution_count": 87,
   "id": "607d618f",
   "metadata": {},
   "outputs": [
    {
     "name": "stdout",
     "output_type": "stream",
     "text": [
      "[[196 195 196 ... 190 191 190]\n",
      " [124 126 127 ... 150 150 151]\n",
      " [166 166 165 ... 180 180 180]\n",
      " ...\n",
      " [170 169 168 ... 158 158 159]\n",
      " [166 165 165 ... 155 156 155]\n",
      " [162 161 161 ... 158 157 158]] \n",
      " [0 0 0 0 0 0 0 0 0 0 0 0 0 0 0 0 0 0 1 1 1 1 1 1 1 1 1 1 1 1 1 1 1 1 1 1 2\n",
      " 2 2 2 2 2 2 2 2 2 2 2 2 2 2 2 2 2]\n"
     ]
    }
   ],
   "source": [
    "xt = []\n",
    "yt = []\n",
    "for pic in os.listdir(\"../data/testing/\"):\n",
    "    image = PIL.Image.open(f\"../data/testing/{pic}\").convert(\"L\")\n",
    "    image = PIL.Image.fromarray(np.array(image)[int(np.floor(image.height / 4)) : int(np.ceil(3 * image.height / 4)), int(np.floor(image.width / 4)) : int(np.ceil( 3 * image.width / 4))])\n",
    "    image = image.resize((64,64))\n",
    "    data = np.asarray(image)\n",
    "    vec = np.hstack(data)\n",
    "    xt.append(vec)\n",
    "    \n",
    "    if( str.lower(pic[0]) == \"c\"):\n",
    "        yt.append(0)\n",
    "    elif (str.lower(pic[0]) == \"r\"):\n",
    "        yt.append(1)\n",
    "    else:\n",
    "        yt.append(2)\n",
    "    \n",
    "xt = np.array(xt)\n",
    "yt = np.array(yt)\n",
    "\n",
    "print(xt, \"\\n\", yt)"
   ]
  },
  {
   "cell_type": "code",
   "execution_count": 92,
   "id": "0aeffdc8",
   "metadata": {},
   "outputs": [
    {
     "name": "stdout",
     "output_type": "stream",
     "text": [
      "[[17  0  1]\n",
      " [ 0 17  1]\n",
      " [ 1  0 17]]\n"
     ]
    }
   ],
   "source": [
    "pred =  log_regress.predict(xt)\n",
    "\n",
    "cm = confusion_matrix(yt, pred)\n",
    "print(cm)"
   ]
  },
  {
   "cell_type": "code",
   "execution_count": null,
   "id": "9f6f1d22",
   "metadata": {},
   "outputs": [],
   "source": []
  }
 ],
 "metadata": {
  "kernelspec": {
   "display_name": "Python 3 (ipykernel)",
   "language": "python",
   "name": "python3"
  },
  "language_info": {
   "codemirror_mode": {
    "name": "ipython",
    "version": 3
   },
   "file_extension": ".py",
   "mimetype": "text/x-python",
   "name": "python",
   "nbconvert_exporter": "python",
   "pygments_lexer": "ipython3",
   "version": "3.8.5"
  }
 },
 "nbformat": 4,
 "nbformat_minor": 5
}
